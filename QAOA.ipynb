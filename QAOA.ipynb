{
 "cells": [
  {
   "cell_type": "markdown",
   "metadata": {},
   "source": [
    "# QAOA implementation on Max-Cut problem"
   ]
  },
  {
   "cell_type": "code",
   "execution_count": 40,
   "metadata": {},
   "outputs": [],
   "source": [
    "import networkx as nx\n",
    "import matplotlib.pyplot as plt\n",
    "\n",
    "from qiskit import QuantumCircuit, Aer\n",
    "from qiskit.circuit import Parameter\n",
    "from qiskit.visualization import plot_histogram\n",
    "from qiskit_ibm_runtime import  QiskitRuntimeService   \n",
    "from scipy.optimize import minimize\n",
    "\n",
    "import warnings"
   ]
  },
  {
   "cell_type": "code",
   "execution_count": null,
   "metadata": {},
   "outputs": [],
   "source": [
    "# Suppress warnings for cleaner output\n",
    "warnings.filterwarnings('ignore')"
   ]
  },
  {
   "cell_type": "code",
   "execution_count": null,
   "metadata": {},
   "outputs": [],
   "source": [
    "plt.rcParams[\"figure.figsize\"] = (4, 3)\n",
    "\n",
    "graph = nx.Graph()\n",
    "graph.add_nodes_from([0, 1, 2, 3, 4, 5])\n",
    "graph.add_edges_from([(0, 1), (1, 2), (2, 3), (0, 5), (2, 5), (3, 4), (4, 5)])\n",
    "pos = nx.circular_layout(graph)\n",
    "nx.draw_networkx(graph,\n",
    "                pos=pos,\n",
    "                with_labels=True,\n",
    "                node_size=200,\n",
    "                node_color=\"#EE5396\",\n",
    "                cmap=\"hsv\",\n",
    "                vmin=-2,\n",
    "                vmax=3,\n",
    "                width=0.8,\n",
    "                edge_color=\"grey\",\n",
    "                font_size=10,\n",
    "                font_color=\"#F4F4F4\"\n",
    "                )"
   ]
  },
  {
   "cell_type": "markdown",
   "metadata": {},
   "source": [
    "Adjacency is essentially a matrix which tells you which nodes are connected. This matrix is given as a sparse matrix, \n",
    "so we need to convert it to a dense matrix"
   ]
  },
  {
   "cell_type": "code",
   "execution_count": null,
   "metadata": {},
   "outputs": [],
   "source": [
    "adjacency = nx.adjacency_matrix(graph).todense()\n",
    "\n",
    "N_QUBITS = 6\n",
    "\n",
    "beta = Parameter(\"$\\\\beta$\")\n",
    "qc_mix = QuantumCircuit(N_QUBITS)\n",
    "for i in range(N_QUBITS):\n",
    "    qc_mix.rx(2 * beta, i)\n",
    "\n",
    "qc_mix.draw(fold = -1,style='iqx', output='mpl')"
   ]
  },
  {
   "cell_type": "code",
   "execution_count": null,
   "metadata": {},
   "outputs": [],
   "source": [
    "gamma = Parameter(\"$\\\\gamma$\")\n",
    "qc_p = QuantumCircuit(N_QUBITS)\n",
    "for pair in list(graph.edges()):  # pairs of nodes\n",
    "    qc_p.rzz(2 * gamma, pair[0], pair[1])\n",
    "    qc_p.barrier()\n",
    "\n",
    "qc_p.decompose().draw(fold = -1,style='iqx', output='mpl')"
   ]
  },
  {
   "cell_type": "markdown",
   "metadata": {},
   "source": [
    "### The Initial State\n",
    "\n",
    "The initial state used during QAOA is usually an equal superposition of all the basis states i.e.\n",
    "\n",
    "$$\\lvert \\psi_0 \\rangle = \\bigg(\\frac{1}{\\sqrt{2}}\\big(\\lvert 0 \\rangle + \\lvert 1 \\rangle\\big)\\bigg)^{\\otimes n}$$\n",
    "\n",
    "Such a state, when the number of qubits is 4 ($n=4$), can be prepared by applying Hadamard gates starting from an all-zero state as shown in \n",
    "the circuit below. "
   ]
  },
  {
   "cell_type": "code",
   "execution_count": null,
   "metadata": {},
   "outputs": [],
   "source": [
    "qc_0 = QuantumCircuit(N_QUBITS)\n",
    "for i in range(N_QUBITS):\n",
    "    qc_0.h(i)\n",
    "\n",
    "qc_0.draw(fold = -1,style='iqx', output='mpl')"
   ]
  },
  {
   "cell_type": "code",
   "execution_count": null,
   "metadata": {},
   "outputs": [],
   "source": [
    "qc_qaoa = QuantumCircuit(N_QUBITS)\n",
    "qc_qaoa.append(qc_0, range(N_QUBITS))\n",
    "qc_qaoa.append(qc_p, range(N_QUBITS))\n",
    "qc_qaoa.append(qc_mix, range(N_QUBITS))\n",
    "\n",
    "qc_qaoa.decompose().decompose().draw(fold = -1,style='iqx', output='mpl')"
   ]
  },
  {
   "cell_type": "code",
   "execution_count": null,
   "metadata": {},
   "outputs": [],
   "source": [
    "def maxcut_obj(solution, graph):\n",
    "    \"\"\"Given a bit string as a solution, this function returns\n",
    "    the number of edges shared between the two partitions\n",
    "    of the graph.\n",
    "    Args:\n",
    "        solution: (str) solution bit string\n",
    "        graph: networkx graph\n",
    "    Returns:\n",
    "        obj: (float) Objective\n",
    "    \"\"\"\n",
    "    # pylint: disable=invalid-name\n",
    "    obj = 0\n",
    "    for i, j in graph.edges():\n",
    "        if solution[i] != solution[j]:\n",
    "            obj -= 1\n",
    "    return obj\n",
    "\n",
    "\n",
    "def compute_expectation(counts, graph):\n",
    "    \"\"\"Computes expectation value based on measurement results\n",
    "    Args:\n",
    "        counts: (dict) key as bit string, val as count\n",
    "        graph: networkx graph\n",
    "    Returns:\n",
    "        avg: float\n",
    "             expectation value\n",
    "    \"\"\"\n",
    "    avg = 0\n",
    "    sum_count = 0\n",
    "    for bit_string, count in counts.items():\n",
    "        obj = maxcut_obj(bit_string, graph)\n",
    "        avg += obj * count\n",
    "        sum_count += count\n",
    "    return avg/sum_count\n",
    "\n",
    "\n",
    "# We will also bring the different circuit components that\n",
    "# build the qaoa circuit under a single function\n",
    "def create_qaoa_circ(graph, theta):\n",
    "    \"\"\"Creates a parametrized qaoa circuit\n",
    "    Args:\n",
    "        graph: networkx graph\n",
    "        theta: (list) unitary parameters\n",
    "    Returns:\n",
    "        (QuantumCircuit) qiskit circuit\n",
    "    \"\"\"\n",
    "    nqubits = len(graph.nodes())\n",
    "    n_layers = len(theta)//2  # number of alternating unitaries\n",
    "    beta = theta[:n_layers]\n",
    "    gamma = theta[n_layers:]\n",
    "\n",
    "    qc = QuantumCircuit(nqubits)\n",
    "\n",
    "    # initial_state\n",
    "    qc.h(range(nqubits))\n",
    "\n",
    "    for layer_index in range(n_layers):\n",
    "        # problem unitary\n",
    "        for pair in list(graph.edges()):\n",
    "            qc.rzz(2 * gamma[layer_index], pair[0], pair[1])\n",
    "        # mixer unitary\n",
    "        for qubit in range(nqubits):\n",
    "            qc.rx(2 * beta[layer_index], qubit)\n",
    "\n",
    "    qc.measure_all()\n",
    "    return qc\n",
    "\n",
    "\n",
    "# Finally we write a function that executes the circuit\n",
    "# on the chosen backend\n",
    "def get_expectation(graph, shots=512):\n",
    "    \"\"\"Runs parametrized circuit\n",
    "    Args:\n",
    "        graph: networkx graph\n",
    "    \"\"\"\n",
    "    backend = Aer.get_backend('qasm_simulator')\n",
    "    backend.shots = shots\n",
    "\n",
    "    def execute_circ(theta):\n",
    "        qc = create_qaoa_circ(graph, theta)\n",
    "        counts = backend.run(qc, seed_simulator=10,\n",
    "                             nshots=512).result().get_counts()\n",
    "        return compute_expectation(counts, graph)\n",
    "\n",
    "    return execute_circ"
   ]
  },
  {
   "cell_type": "code",
   "execution_count": null,
   "metadata": {},
   "outputs": [],
   "source": [
    "\n",
    "expectation = get_expectation(graph)\n",
    "res = minimize(expectation,\n",
    "               [1.0, 1.0],\n",
    "               method='COBYLA')\n",
    "res"
   ]
  },
  {
   "cell_type": "code",
   "execution_count": null,
   "metadata": {},
   "outputs": [],
   "source": [
    "backend = Aer.get_backend('aer_simulator')\n",
    "backend.shots = 512\n",
    "\n",
    "\n",
    "qc_res = create_qaoa_circ(graph, res.x)\n",
    "counts = backend.run(qc_res, seed_simulator=10).result().get_counts()\n",
    "\n",
    "plot_histogram(counts, figsize=(20, 4))\n"
   ]
  },
  {
   "cell_type": "code",
   "execution_count": null,
   "metadata": {},
   "outputs": [],
   "source": [
    "\n",
    "QiskitRuntimeService.save_account(channel=\"ibm_quantum\", token='2a4b0eb9cd3069ee20cfbc5595a1cff34239ddce2d2b9b1c5fe65752940626f64c7257fab1e72126d93ff496af9a2d288c16529fee07780480a0a2b238f0cc80',overwrite=True)\n",
    "\n",
    "\n",
    "service = QiskitRuntimeService(channel=\"ibm_quantum\")\n",
    "backend = service.least_busy(operational=True, simulator=False)\n",
    "backend.name"
   ]
  },
  {
   "cell_type": "code",
   "execution_count": null,
   "metadata": {},
   "outputs": [],
   "source": [
    "backend.shots = 512\n",
    "\n",
    "qc_res = create_qaoa_circ(graph, res.x)\n",
    "counts = backend.run(qc_res, seed_simulator=10).result().get_counts()\n",
    "plot_histogram(counts)\n"
   ]
  }
 ],
 "metadata": {
  "kernelspec": {
   "display_name": "Python 3",
   "language": "python",
   "name": "python3"
  },
  "language_info": {
   "codemirror_mode": {
    "name": "ipython",
    "version": 3
   },
   "file_extension": ".py",
   "mimetype": "text/x-python",
   "name": "python",
   "nbconvert_exporter": "python",
   "pygments_lexer": "ipython3",
   "version": "3.8.10"
  }
 },
 "nbformat": 4,
 "nbformat_minor": 2
}
